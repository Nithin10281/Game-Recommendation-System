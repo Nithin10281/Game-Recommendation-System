{
 "cells": [
  {
   "cell_type": "code",
   "execution_count": 52,
   "metadata": {},
   "outputs": [],
   "source": [
    "import numpy as np\n",
    "import pandas as pd\n",
    "import nltk\n",
    "from nltk.stem.porter import PorterStemmer\n",
    "from sklearn.feature_extraction.text import CountVectorizer\n",
    "from sklearn.metrics.pairwise import cosine_similarity"
   ]
  },
  {
   "cell_type": "code",
   "execution_count": 53,
   "metadata": {},
   "outputs": [],
   "source": [
    "games = pd.read_csv('steam.csv')"
   ]
  },
  {
   "cell_type": "code",
   "execution_count": 54,
   "metadata": {},
   "outputs": [
    {
     "data": {
      "text/plain": [
       "(65111, 9)"
      ]
     },
     "execution_count": 54,
     "metadata": {},
     "output_type": "execute_result"
    }
   ],
   "source": [
    "games.shape # Check the shape of the data"
   ]
  },
  {
   "cell_type": "code",
   "execution_count": 55,
   "metadata": {},
   "outputs": [],
   "source": [
    "games = games[['App ID', 'Title', 'Reviews Total', 'Reviews Score Fancy', 'Release Date', 'Launch Price','Tags', 'Modified Tags', 'Steam Page']]"
   ]
  },
  {
   "cell_type": "code",
   "execution_count": 56,
   "metadata": {},
   "outputs": [
    {
     "data": {
      "text/plain": [
       "App ID                 0\n",
       "Title                  0\n",
       "Reviews Total          0\n",
       "Reviews Score Fancy    0\n",
       "Release Date           0\n",
       "Launch Price           0\n",
       "Tags                   0\n",
       "Modified Tags          0\n",
       "Steam Page             0\n",
       "dtype: int64"
      ]
     },
     "execution_count": 56,
     "metadata": {},
     "output_type": "execute_result"
    }
   ],
   "source": [
    "games.isnull().sum() # Check for missing values"
   ]
  },
  {
   "cell_type": "code",
   "execution_count": 57,
   "metadata": {},
   "outputs": [],
   "source": [
    "games.dropna(inplace=True)"
   ]
  },
  {
   "cell_type": "code",
   "execution_count": 58,
   "metadata": {},
   "outputs": [],
   "source": [
    "games['Tags'] = games['Modified Tags'] + ' ' + games['Tags']\n",
    "games['Tags'] = games['Tags'].astype(str)"
   ]
  },
  {
   "cell_type": "code",
   "execution_count": 59,
   "metadata": {},
   "outputs": [
    {
     "data": {
      "text/html": [
       "<div>\n",
       "<style scoped>\n",
       "    .dataframe tbody tr th:only-of-type {\n",
       "        vertical-align: middle;\n",
       "    }\n",
       "\n",
       "    .dataframe tbody tr th {\n",
       "        vertical-align: top;\n",
       "    }\n",
       "\n",
       "    .dataframe thead th {\n",
       "        text-align: right;\n",
       "    }\n",
       "</style>\n",
       "<table border=\"1\" class=\"dataframe\">\n",
       "  <thead>\n",
       "    <tr style=\"text-align: right;\">\n",
       "      <th></th>\n",
       "      <th>App ID</th>\n",
       "      <th>Title</th>\n",
       "      <th>Reviews Total</th>\n",
       "      <th>Reviews Score Fancy</th>\n",
       "      <th>Release Date</th>\n",
       "      <th>Launch Price</th>\n",
       "      <th>Tags</th>\n",
       "      <th>Modified Tags</th>\n",
       "      <th>Steam Page</th>\n",
       "    </tr>\n",
       "  </thead>\n",
       "  <tbody>\n",
       "    <tr>\n",
       "      <th>0</th>\n",
       "      <td>10</td>\n",
       "      <td>Counter-Strike</td>\n",
       "      <td>137421</td>\n",
       "      <td>97%</td>\n",
       "      <td>01-11-2000</td>\n",
       "      <td>$9,99</td>\n",
       "      <td>Action_, FPS_, Multiplayer_, Shooter_, Classic...</td>\n",
       "      <td>Action_, FPS_, Multiplayer_, Shooter_, Classic...</td>\n",
       "      <td>https://store.steampowered.com/app/10</td>\n",
       "    </tr>\n",
       "    <tr>\n",
       "      <th>1</th>\n",
       "      <td>20</td>\n",
       "      <td>Team Fortress Classic</td>\n",
       "      <td>5475</td>\n",
       "      <td>85%</td>\n",
       "      <td>01-04-1999</td>\n",
       "      <td>$4,99</td>\n",
       "      <td>Action_, FPS_, Multiplayer_, Classic_, Hero Sh...</td>\n",
       "      <td>Action_, FPS_, Multiplayer_, Classic_, Hero Sh...</td>\n",
       "      <td>https://store.steampowered.com/app/20</td>\n",
       "    </tr>\n",
       "    <tr>\n",
       "      <th>2</th>\n",
       "      <td>30</td>\n",
       "      <td>Day of Defeat</td>\n",
       "      <td>3692</td>\n",
       "      <td>87%</td>\n",
       "      <td>01-05-2003</td>\n",
       "      <td>$4,99</td>\n",
       "      <td>FPS_, World War II_, Multiplayer_, Shooter_, A...</td>\n",
       "      <td>FPS_, World War II_, Multiplayer_, Shooter_, A...</td>\n",
       "      <td>https://store.steampowered.com/app/30</td>\n",
       "    </tr>\n",
       "    <tr>\n",
       "      <th>3</th>\n",
       "      <td>40</td>\n",
       "      <td>Deathmatch Classic</td>\n",
       "      <td>1923</td>\n",
       "      <td>80%</td>\n",
       "      <td>01-06-2001</td>\n",
       "      <td>$4,99</td>\n",
       "      <td>Action_, FPS_, Classic_, Multiplayer_, Shooter...</td>\n",
       "      <td>Action_, FPS_, Classic_, Multiplayer_, Shooter...</td>\n",
       "      <td>https://store.steampowered.com/app/40</td>\n",
       "    </tr>\n",
       "    <tr>\n",
       "      <th>4</th>\n",
       "      <td>50</td>\n",
       "      <td>Half-Life: Opposing Force</td>\n",
       "      <td>15498</td>\n",
       "      <td>95%</td>\n",
       "      <td>01-11-1999</td>\n",
       "      <td>$4,99</td>\n",
       "      <td>FPS_, Action_, Classic_, Sci fi_, Singleplayer...</td>\n",
       "      <td>FPS_, Action_, Classic_, Sci fi_, Singleplayer...</td>\n",
       "      <td>https://store.steampowered.com/app/50</td>\n",
       "    </tr>\n",
       "  </tbody>\n",
       "</table>\n",
       "</div>"
      ],
      "text/plain": [
       "   App ID                      Title  Reviews Total Reviews Score Fancy  \\\n",
       "0      10             Counter-Strike         137421                 97%   \n",
       "1      20      Team Fortress Classic           5475                 85%   \n",
       "2      30              Day of Defeat           3692                 87%   \n",
       "3      40         Deathmatch Classic           1923                 80%   \n",
       "4      50  Half-Life: Opposing Force          15498                 95%   \n",
       "\n",
       "  Release Date Launch Price  \\\n",
       "0   01-11-2000        $9,99   \n",
       "1   01-04-1999        $4,99   \n",
       "2   01-05-2003        $4,99   \n",
       "3   01-06-2001        $4,99   \n",
       "4   01-11-1999        $4,99   \n",
       "\n",
       "                                                Tags  \\\n",
       "0  Action_, FPS_, Multiplayer_, Shooter_, Classic...   \n",
       "1  Action_, FPS_, Multiplayer_, Classic_, Hero Sh...   \n",
       "2  FPS_, World War II_, Multiplayer_, Shooter_, A...   \n",
       "3  Action_, FPS_, Classic_, Multiplayer_, Shooter...   \n",
       "4  FPS_, Action_, Classic_, Sci fi_, Singleplayer...   \n",
       "\n",
       "                                       Modified Tags  \\\n",
       "0  Action_, FPS_, Multiplayer_, Shooter_, Classic...   \n",
       "1  Action_, FPS_, Multiplayer_, Classic_, Hero Sh...   \n",
       "2  FPS_, World War II_, Multiplayer_, Shooter_, A...   \n",
       "3  Action_, FPS_, Classic_, Multiplayer_, Shooter...   \n",
       "4  FPS_, Action_, Classic_, Sci fi_, Singleplayer...   \n",
       "\n",
       "                              Steam Page  \n",
       "0  https://store.steampowered.com/app/10  \n",
       "1  https://store.steampowered.com/app/20  \n",
       "2  https://store.steampowered.com/app/30  \n",
       "3  https://store.steampowered.com/app/40  \n",
       "4  https://store.steampowered.com/app/50  "
      ]
     },
     "execution_count": 59,
     "metadata": {},
     "output_type": "execute_result"
    }
   ],
   "source": [
    "games.head() # Check the first few rows"
   ]
  },
  {
   "cell_type": "code",
   "execution_count": 60,
   "metadata": {},
   "outputs": [
    {
     "data": {
      "text/plain": [
       "(65111, 9)"
      ]
     },
     "execution_count": 60,
     "metadata": {},
     "output_type": "execute_result"
    }
   ],
   "source": [
    "games.shape # Check the shape of the data"
   ]
  },
  {
   "cell_type": "code",
   "execution_count": 61,
   "metadata": {},
   "outputs": [],
   "source": [
    "new_df = games[['Title', 'Reviews Score Fancy', 'Tags', 'Steam Page']]"
   ]
  },
  {
   "cell_type": "code",
   "execution_count": 62,
   "metadata": {},
   "outputs": [],
   "source": [
    "ps = PorterStemmer()"
   ]
  },
  {
   "cell_type": "code",
   "execution_count": 63,
   "metadata": {},
   "outputs": [
    {
     "data": {
      "text/html": [
       "<div>\n",
       "<style scoped>\n",
       "    .dataframe tbody tr th:only-of-type {\n",
       "        vertical-align: middle;\n",
       "    }\n",
       "\n",
       "    .dataframe tbody tr th {\n",
       "        vertical-align: top;\n",
       "    }\n",
       "\n",
       "    .dataframe thead th {\n",
       "        text-align: right;\n",
       "    }\n",
       "</style>\n",
       "<table border=\"1\" class=\"dataframe\">\n",
       "  <thead>\n",
       "    <tr style=\"text-align: right;\">\n",
       "      <th></th>\n",
       "      <th>Title</th>\n",
       "      <th>Reviews Score Fancy</th>\n",
       "      <th>Tags</th>\n",
       "      <th>Steam Page</th>\n",
       "    </tr>\n",
       "  </thead>\n",
       "  <tbody>\n",
       "    <tr>\n",
       "      <th>0</th>\n",
       "      <td>Counter-Strike</td>\n",
       "      <td>97%</td>\n",
       "      <td>Action_, FPS_, Multiplayer_, Shooter_, Classic...</td>\n",
       "      <td>https://store.steampowered.com/app/10</td>\n",
       "    </tr>\n",
       "    <tr>\n",
       "      <th>1</th>\n",
       "      <td>Team Fortress Classic</td>\n",
       "      <td>85%</td>\n",
       "      <td>Action_, FPS_, Multiplayer_, Classic_, Hero Sh...</td>\n",
       "      <td>https://store.steampowered.com/app/20</td>\n",
       "    </tr>\n",
       "    <tr>\n",
       "      <th>2</th>\n",
       "      <td>Day of Defeat</td>\n",
       "      <td>87%</td>\n",
       "      <td>FPS_, World War II_, Multiplayer_, Shooter_, A...</td>\n",
       "      <td>https://store.steampowered.com/app/30</td>\n",
       "    </tr>\n",
       "    <tr>\n",
       "      <th>3</th>\n",
       "      <td>Deathmatch Classic</td>\n",
       "      <td>80%</td>\n",
       "      <td>Action_, FPS_, Classic_, Multiplayer_, Shooter...</td>\n",
       "      <td>https://store.steampowered.com/app/40</td>\n",
       "    </tr>\n",
       "    <tr>\n",
       "      <th>4</th>\n",
       "      <td>Half-Life: Opposing Force</td>\n",
       "      <td>95%</td>\n",
       "      <td>FPS_, Action_, Classic_, Sci fi_, Singleplayer...</td>\n",
       "      <td>https://store.steampowered.com/app/50</td>\n",
       "    </tr>\n",
       "  </tbody>\n",
       "</table>\n",
       "</div>"
      ],
      "text/plain": [
       "                       Title Reviews Score Fancy  \\\n",
       "0             Counter-Strike                 97%   \n",
       "1      Team Fortress Classic                 85%   \n",
       "2              Day of Defeat                 87%   \n",
       "3         Deathmatch Classic                 80%   \n",
       "4  Half-Life: Opposing Force                 95%   \n",
       "\n",
       "                                                Tags  \\\n",
       "0  Action_, FPS_, Multiplayer_, Shooter_, Classic...   \n",
       "1  Action_, FPS_, Multiplayer_, Classic_, Hero Sh...   \n",
       "2  FPS_, World War II_, Multiplayer_, Shooter_, A...   \n",
       "3  Action_, FPS_, Classic_, Multiplayer_, Shooter...   \n",
       "4  FPS_, Action_, Classic_, Sci fi_, Singleplayer...   \n",
       "\n",
       "                              Steam Page  \n",
       "0  https://store.steampowered.com/app/10  \n",
       "1  https://store.steampowered.com/app/20  \n",
       "2  https://store.steampowered.com/app/30  \n",
       "3  https://store.steampowered.com/app/40  \n",
       "4  https://store.steampowered.com/app/50  "
      ]
     },
     "execution_count": 63,
     "metadata": {},
     "output_type": "execute_result"
    }
   ],
   "source": [
    "new_df.head() # Check the first few rows"
   ]
  },
  {
   "cell_type": "code",
   "execution_count": 64,
   "metadata": {},
   "outputs": [
    {
     "data": {
      "text/plain": [
       "(65111, 4)"
      ]
     },
     "execution_count": 64,
     "metadata": {},
     "output_type": "execute_result"
    }
   ],
   "source": [
    "new_df.shape # Check the shape of the data"
   ]
  },
  {
   "cell_type": "code",
   "execution_count": 65,
   "metadata": {},
   "outputs": [],
   "source": [
    "def stem(text): \n",
    "    y = [] \n",
    "    for i in text.split(): \n",
    "        y.append(ps.stem(i)) \n",
    "    return ' '.join(y)"
   ]
  },
  {
   "cell_type": "code",
   "execution_count": 66,
   "metadata": {},
   "outputs": [
    {
     "name": "stderr",
     "output_type": "stream",
     "text": [
      "C:\\Users\\nithi\\AppData\\Local\\Temp\\ipykernel_14360\\634297125.py:1: SettingWithCopyWarning: \n",
      "A value is trying to be set on a copy of a slice from a DataFrame.\n",
      "Try using .loc[row_indexer,col_indexer] = value instead\n",
      "\n",
      "See the caveats in the documentation: https://pandas.pydata.org/pandas-docs/stable/user_guide/indexing.html#returning-a-view-versus-a-copy\n",
      "  new_df['Tags'] = new_df['Tags'].apply(stem)\n"
     ]
    }
   ],
   "source": [
    "new_df['Tags'] = new_df['Tags'].apply(stem)"
   ]
  },
  {
   "cell_type": "code",
   "execution_count": 67,
   "metadata": {},
   "outputs": [],
   "source": [
    "cv = CountVectorizer(max_features=8000, stop_words='english')"
   ]
  },
  {
   "cell_type": "code",
   "execution_count": 68,
   "metadata": {},
   "outputs": [],
   "source": [
    "vectors = cv.fit_transform(new_df['Tags']).toarray()"
   ]
  },
  {
   "cell_type": "code",
   "execution_count": 69,
   "metadata": {},
   "outputs": [],
   "source": [
    "import faiss\n",
    "\n",
    "# Convert to float32 as faiss expects this data type\n",
    "vectors = vectors.astype('float32')\n",
    "\n",
    "# Initialize the index\n",
    "index = faiss.IndexFlatL2(vectors.shape[1])  # L2 similarity index\n",
    "\n",
    "# Add the vectors to the index\n",
    "index.add(vectors)\n",
    "\n",
    "# Search for the top-10 nearest neighbors\n",
    "k = 10  # You can adjust this based on your needs\n",
    "D, I = index.search(vectors, k)  # D is the distances, I is the indices\n"
   ]
  },
  {
   "cell_type": "code",
   "execution_count": 70,
   "metadata": {},
   "outputs": [],
   "source": [
    "def recommend(name):\n",
    "    # Check if the game exists in the DataFrame\n",
    "    if name not in new_df['Title'].values:\n",
    "        return f\"Game '{name}' not found in the dataset.\"\n",
    "    \n",
    "    # Get the index of the game\n",
    "    game_index = new_df[new_df['Title'] == name].index[0]\n",
    "    \n",
    "    # Get the vector for the selected game\n",
    "    query_vector = vectors[game_index].reshape(1, -1)\n",
    "    \n",
    "    # Search the faiss index for the top k nearest neighbors\n",
    "    D, I = index.search(query_vector, k)  # D = distances, I = indices\n",
    "    \n",
    "    # Exclude the first match since it's the game itself\n",
    "    similar_games_indices = I[0][1:]  # Exclude the first match (itself)\n",
    "    \n",
    "    # Get the titles of the similar games\n",
    "    recommended_games = new_df.iloc[similar_games_indices]['Title'].values.tolist()\n",
    "    \n",
    "    return recommended_games\n"
   ]
  },
  {
   "cell_type": "code",
   "execution_count": 71,
   "metadata": {},
   "outputs": [
    {
     "name": "stdout",
     "output_type": "stream",
     "text": [
      "Grand Theft Auto V\n"
     ]
    }
   ],
   "source": [
    "new_df.head()\n",
    "game_name = new_df[new_df['Title'] == 'Grand Theft Auto V']['Title'].values[0]\n",
    "print(game_name)"
   ]
  },
  {
   "cell_type": "code",
   "execution_count": 72,
   "metadata": {},
   "outputs": [
    {
     "data": {
      "text/html": [
       "<div>\n",
       "<style scoped>\n",
       "    .dataframe tbody tr th:only-of-type {\n",
       "        vertical-align: middle;\n",
       "    }\n",
       "\n",
       "    .dataframe tbody tr th {\n",
       "        vertical-align: top;\n",
       "    }\n",
       "\n",
       "    .dataframe thead th {\n",
       "        text-align: right;\n",
       "    }\n",
       "</style>\n",
       "<table border=\"1\" class=\"dataframe\">\n",
       "  <thead>\n",
       "    <tr style=\"text-align: right;\">\n",
       "      <th></th>\n",
       "      <th>Title</th>\n",
       "      <th>Reviews Score Fancy</th>\n",
       "      <th>Tags</th>\n",
       "      <th>Steam Page</th>\n",
       "    </tr>\n",
       "  </thead>\n",
       "  <tbody>\n",
       "    <tr>\n",
       "      <th>0</th>\n",
       "      <td>Counter-Strike</td>\n",
       "      <td>97%</td>\n",
       "      <td>action_, fps_, multiplayer_, shooter_, classic...</td>\n",
       "      <td>https://store.steampowered.com/app/10</td>\n",
       "    </tr>\n",
       "    <tr>\n",
       "      <th>1</th>\n",
       "      <td>Team Fortress Classic</td>\n",
       "      <td>85%</td>\n",
       "      <td>action_, fps_, multiplayer_, classic_, hero sh...</td>\n",
       "      <td>https://store.steampowered.com/app/20</td>\n",
       "    </tr>\n",
       "    <tr>\n",
       "      <th>2</th>\n",
       "      <td>Day of Defeat</td>\n",
       "      <td>87%</td>\n",
       "      <td>fps_, world war ii_, multiplayer_, shooter_, a...</td>\n",
       "      <td>https://store.steampowered.com/app/30</td>\n",
       "    </tr>\n",
       "    <tr>\n",
       "      <th>3</th>\n",
       "      <td>Deathmatch Classic</td>\n",
       "      <td>80%</td>\n",
       "      <td>action_, fps_, classic_, multiplayer_, shooter...</td>\n",
       "      <td>https://store.steampowered.com/app/40</td>\n",
       "    </tr>\n",
       "    <tr>\n",
       "      <th>4</th>\n",
       "      <td>Half-Life: Opposing Force</td>\n",
       "      <td>95%</td>\n",
       "      <td>fps_, action_, classic_, sci fi_, singleplayer...</td>\n",
       "      <td>https://store.steampowered.com/app/50</td>\n",
       "    </tr>\n",
       "  </tbody>\n",
       "</table>\n",
       "</div>"
      ],
      "text/plain": [
       "                       Title Reviews Score Fancy  \\\n",
       "0             Counter-Strike                 97%   \n",
       "1      Team Fortress Classic                 85%   \n",
       "2              Day of Defeat                 87%   \n",
       "3         Deathmatch Classic                 80%   \n",
       "4  Half-Life: Opposing Force                 95%   \n",
       "\n",
       "                                                Tags  \\\n",
       "0  action_, fps_, multiplayer_, shooter_, classic...   \n",
       "1  action_, fps_, multiplayer_, classic_, hero sh...   \n",
       "2  fps_, world war ii_, multiplayer_, shooter_, a...   \n",
       "3  action_, fps_, classic_, multiplayer_, shooter...   \n",
       "4  fps_, action_, classic_, sci fi_, singleplayer...   \n",
       "\n",
       "                              Steam Page  \n",
       "0  https://store.steampowered.com/app/10  \n",
       "1  https://store.steampowered.com/app/20  \n",
       "2  https://store.steampowered.com/app/30  \n",
       "3  https://store.steampowered.com/app/40  \n",
       "4  https://store.steampowered.com/app/50  "
      ]
     },
     "execution_count": 72,
     "metadata": {},
     "output_type": "execute_result"
    }
   ],
   "source": [
    "new_df.head()"
   ]
  },
  {
   "cell_type": "code",
   "execution_count": 73,
   "metadata": {},
   "outputs": [
    {
     "data": {
      "text/plain": [
       "['Grand Theft Auto: San Andreas',\n",
       " 'Grand Theft Auto: Vice City',\n",
       " 'Driver® Parallel Lines',\n",
       " 'Just Cause™ 3',\n",
       " 'Grand Theft Auto III',\n",
       " 'Bionic Commando',\n",
       " 'Grand Theft Auto IV: The Complete Edition',\n",
       " 'Mafia II (Classic)',\n",
       " 'Sleeping Dogs: Definitive Edition']"
      ]
     },
     "execution_count": 73,
     "metadata": {},
     "output_type": "execute_result"
    }
   ],
   "source": [
    "recommend('Grand Theft Auto V') # Recommend games similar to Grand Theft Auto V"
   ]
  }
 ],
 "metadata": {
  "kernelspec": {
   "display_name": "Python 3",
   "language": "python",
   "name": "python3"
  },
  "language_info": {
   "codemirror_mode": {
    "name": "ipython",
    "version": 3
   },
   "file_extension": ".py",
   "mimetype": "text/x-python",
   "name": "python",
   "nbconvert_exporter": "python",
   "pygments_lexer": "ipython3",
   "version": "3.12.4"
  }
 },
 "nbformat": 4,
 "nbformat_minor": 2
}
